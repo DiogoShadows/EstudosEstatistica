{
 "cells": [
  {
   "cell_type": "markdown",
   "id": "8e139ee0",
   "metadata": {},
   "source": [
    "# Distribuição Exponencial"
   ]
  },
  {
   "cell_type": "markdown",
   "id": "48f5debf",
   "metadata": {},
   "source": [
    "## A Vida útil de uma lâmpada (em horas) é modelada através da distribuição exponencial com parâmetro 1/8000.\n",
    "\n",
    "X: Tempo de duração da lâmpada (em horas)\n",
    "X ~ exp (1/8000)"
   ]
  },
  {
   "cell_type": "markdown",
   "id": "027db3fc",
   "metadata": {},
   "source": [
    "## Calcule o tempo médio de duração dessas lâmpadas."
   ]
  },
  {
   "cell_type": "markdown",
   "id": "55743435",
   "metadata": {},
   "source": [
    "Tempo médio = **8000**"
   ]
  },
  {
   "cell_type": "markdown",
   "id": "70e8c42a",
   "metadata": {},
   "source": [
    "## Calcule a probabilidade de que uma lâmpada dure pelo menos 4000 horas."
   ]
  },
  {
   "cell_type": "code",
   "execution_count": 1,
   "id": "451bad2e",
   "metadata": {},
   "outputs": [],
   "source": [
    "from scipy.stats import expon"
   ]
  },
  {
   "cell_type": "code",
   "execution_count": 20,
   "id": "ddc68551",
   "metadata": {},
   "outputs": [
    {
     "data": {
      "text/plain": [
       "0.6065306597126334"
      ]
     },
     "execution_count": 20,
     "metadata": {},
     "output_type": "execute_result"
    }
   ],
   "source": [
    "expon.sf(4000, scale=8000)"
   ]
  },
  {
   "cell_type": "markdown",
   "id": "85852200",
   "metadata": {},
   "source": [
    "## Sabe-se que o fabricante garante a reposição de um lâmpada caso ela dure menos de 50 horas. Determine a probabilidade de haver troca por defeito na fabricação."
   ]
  },
  {
   "cell_type": "code",
   "execution_count": 21,
   "id": "9cdfb5ae",
   "metadata": {},
   "outputs": [
    {
     "data": {
      "text/plain": [
       "0.00623050937660527"
      ]
     },
     "execution_count": 21,
     "metadata": {},
     "output_type": "execute_result"
    }
   ],
   "source": [
    "expon.cdf(50, scale=8000)"
   ]
  },
  {
   "cell_type": "markdown",
   "id": "4b98c146",
   "metadata": {},
   "source": [
    "## Uma lâmpada é colocada em teste. Calcule a probabilidade de que ela dure pelo menos 10000 horas, sabendo-se que ela já está em funcionamento a pelo menos 6000 horas."
   ]
  },
  {
   "cell_type": "markdown",
   "id": "82c94597",
   "metadata": {},
   "source": [
    "Valor a se calcular = **10000 - 6000 = 4000**\n",
    "\n",
    "Pois a propriedade **Falta de memória**, não \"vê\" diferença se a lâmpada é nova ou usada"
   ]
  },
  {
   "cell_type": "code",
   "execution_count": 22,
   "id": "e6d36cca",
   "metadata": {},
   "outputs": [
    {
     "data": {
      "text/plain": [
       "0.6065306597126334"
      ]
     },
     "execution_count": 22,
     "metadata": {},
     "output_type": "execute_result"
    }
   ],
   "source": [
    "expon.sf(4000, scale=8000)"
   ]
  },
  {
   "cell_type": "markdown",
   "id": "59cb0270",
   "metadata": {},
   "source": [
    "# A vida de certo componente tem uma distribuição aproximadamente exponencial com média de 1000 horas."
   ]
  },
  {
   "cell_type": "markdown",
   "id": "da7013a1",
   "metadata": {},
   "source": [
    "## Determinar a porcentagem de componentes que queimarão antes de 1000 horas."
   ]
  },
  {
   "cell_type": "code",
   "execution_count": 24,
   "id": "eafdd845",
   "metadata": {},
   "outputs": [
    {
     "data": {
      "text/plain": [
       "0.6321205588285577"
      ]
     },
     "execution_count": 24,
     "metadata": {},
     "output_type": "execute_result"
    }
   ],
   "source": [
    "expon.cdf(1000, scale=1000)"
   ]
  },
  {
   "cell_type": "markdown",
   "id": "2e6aad3e",
   "metadata": {},
   "source": [
    "## Qual é a probabilidade de que os componentes durem entre 900 e 1200 horas?"
   ]
  },
  {
   "cell_type": "code",
   "execution_count": 28,
   "id": "cde65ec8",
   "metadata": {},
   "outputs": [
    {
     "data": {
      "text/plain": [
       "0.10537544782839697"
      ]
     },
     "execution_count": 28,
     "metadata": {},
     "output_type": "execute_result"
    }
   ],
   "source": [
    "resultado = expon.sf([900, 1200], scale=1000)\n",
    "resultado[0] - resultado[1]"
   ]
  },
  {
   "cell_type": "markdown",
   "id": "3887b0cb",
   "metadata": {},
   "source": [
    "## Qual é o percentual de componentes que durarão mais de 850 horas?"
   ]
  },
  {
   "cell_type": "code",
   "execution_count": 32,
   "id": "6754e2e6",
   "metadata": {},
   "outputs": [
    {
     "data": {
      "text/plain": [
       "0.4274149319487267"
      ]
     },
     "execution_count": 32,
     "metadata": {},
     "output_type": "execute_result"
    }
   ],
   "source": [
    "expon.sf(850, scale=1000)"
   ]
  },
  {
   "cell_type": "markdown",
   "id": "c1622622",
   "metadata": {},
   "source": [
    "## O tempo de utilização de um caixa eletrônico por clientes de um certo banco, em minutos,  foi modelado por uma variável T com distribuição exponencial com parâmetro igual a 3. Determine a probabilidade de que um cliente demore menos de um minuto utilizando o caixa eletrônico."
   ]
  },
  {
   "cell_type": "code",
   "execution_count": 9,
   "id": "b9588bec",
   "metadata": {},
   "outputs": [
    {
     "data": {
      "text/plain": [
       "0.950212931632136"
      ]
     },
     "execution_count": 9,
     "metadata": {},
     "output_type": "execute_result"
    }
   ],
   "source": [
    "expon.cdf(1, scale=1/3)"
   ]
  },
  {
   "cell_type": "code",
   "execution_count": null,
   "id": "97a52c4b",
   "metadata": {},
   "outputs": [],
   "source": []
  }
 ],
 "metadata": {
  "kernelspec": {
   "display_name": "Python 3 (ipykernel)",
   "language": "python",
   "name": "python3"
  },
  "language_info": {
   "codemirror_mode": {
    "name": "ipython",
    "version": 3
   },
   "file_extension": ".py",
   "mimetype": "text/x-python",
   "name": "python",
   "nbconvert_exporter": "python",
   "pygments_lexer": "ipython3",
   "version": "3.10.9"
  }
 },
 "nbformat": 4,
 "nbformat_minor": 5
}

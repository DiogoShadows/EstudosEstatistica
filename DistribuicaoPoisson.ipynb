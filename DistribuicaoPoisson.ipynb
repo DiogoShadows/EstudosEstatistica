{
 "cells": [
  {
   "cell_type": "markdown",
   "id": "280355d1",
   "metadata": {},
   "source": [
    "# Distribuição Poisson"
   ]
  },
  {
   "cell_type": "markdown",
   "id": "76aeed18",
   "metadata": {},
   "source": [
    "Utilizado em uma contagem dentro de um período"
   ]
  },
  {
   "cell_type": "code",
   "execution_count": 1,
   "id": "5b7c5bc2",
   "metadata": {},
   "outputs": [],
   "source": [
    "from scipy.stats import poisson"
   ]
  },
  {
   "cell_type": "markdown",
   "id": "def54760",
   "metadata": {},
   "source": [
    "## Um Banco realizou uma coleta de dados e, a partir daí percebeu-se que em um hora, 6 clientes adquirem certo seguro."
   ]
  },
  {
   "cell_type": "markdown",
   "id": "d52a9f28",
   "metadata": {},
   "source": [
    "Média = 6 seguros por hora"
   ]
  },
  {
   "cell_type": "markdown",
   "id": "a8857f82",
   "metadata": {},
   "source": [
    "## A instituição deseja saber qual a probabilidade de, no mesmo período de tempo, pelo menos 8 seguros serem vendidos."
   ]
  },
  {
   "cell_type": "code",
   "execution_count": 2,
   "id": "9dff5874",
   "metadata": {},
   "outputs": [
    {
     "data": {
      "text/plain": [
       "0.2560202395462829"
      ]
     },
     "execution_count": 2,
     "metadata": {},
     "output_type": "execute_result"
    }
   ],
   "source": [
    "poisson.sf(7, 6) # Acima e não incluindo 7"
   ]
  },
  {
   "cell_type": "markdown",
   "id": "eb3a7efd",
   "metadata": {},
   "source": [
    "## A instituição deseja saber qual a probabilidade de, no mesmo período de tempo, menos de 8 seguros serem vendidos."
   ]
  },
  {
   "cell_type": "code",
   "execution_count": 5,
   "id": "083068f9",
   "metadata": {},
   "outputs": [
    {
     "data": {
      "text/plain": [
       "0.743979760453717"
      ]
     },
     "execution_count": 5,
     "metadata": {},
     "output_type": "execute_result"
    }
   ],
   "source": [
    "poisson.cdf(7, 6)"
   ]
  },
  {
   "cell_type": "markdown",
   "id": "f37dbf6b",
   "metadata": {},
   "source": [
    "## A instituição deseja saber qual a probabilidade de, no período de 4 horas, 18 seguros serem vendidos."
   ]
  },
  {
   "cell_type": "markdown",
   "id": "b86c514c",
   "metadata": {},
   "source": [
    "Média = 6 seguros por hora x 4 horas"
   ]
  },
  {
   "cell_type": "code",
   "execution_count": 6,
   "id": "35d1148c",
   "metadata": {},
   "outputs": [
    {
     "data": {
      "text/plain": [
       "0.0411522670196081"
      ]
     },
     "execution_count": 6,
     "metadata": {},
     "output_type": "execute_result"
    }
   ],
   "source": [
    "poisson.pmf(18, 24)"
   ]
  },
  {
   "cell_type": "code",
   "execution_count": null,
   "id": "622f3ecc",
   "metadata": {},
   "outputs": [],
   "source": []
  }
 ],
 "metadata": {
  "kernelspec": {
   "display_name": "Python 3 (ipykernel)",
   "language": "python",
   "name": "python3"
  },
  "language_info": {
   "codemirror_mode": {
    "name": "ipython",
    "version": 3
   },
   "file_extension": ".py",
   "mimetype": "text/x-python",
   "name": "python",
   "nbconvert_exporter": "python",
   "pygments_lexer": "ipython3",
   "version": "3.10.9"
  }
 },
 "nbformat": 4,
 "nbformat_minor": 5
}

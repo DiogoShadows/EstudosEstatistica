{
 "cells": [
  {
   "cell_type": "markdown",
   "id": "c8311448",
   "metadata": {},
   "source": [
    "# Distribuição Exponencial"
   ]
  },
  {
   "cell_type": "code",
   "execution_count": 1,
   "id": "c972aa91",
   "metadata": {},
   "outputs": [],
   "source": [
    "from scipy.stats import expon"
   ]
  },
  {
   "cell_type": "markdown",
   "id": "b4faa004",
   "metadata": {},
   "source": [
    "## O tempo de espera em uma fila para realizar o pagamento dos produtos adquiridos na loja segue uma distribuição exponencial com parâmetro 1/5 minutos."
   ]
  },
  {
   "cell_type": "markdown",
   "id": "9810e5ea",
   "metadata": {},
   "source": [
    "### Qual é a probabilidade de que uma pessoa espere um tempo menor do que a média?"
   ]
  },
  {
   "cell_type": "code",
   "execution_count": 21,
   "id": "9f294fe5",
   "metadata": {},
   "outputs": [
    {
     "data": {
      "text/plain": [
       "0.6321205588285577"
      ]
     },
     "execution_count": 21,
     "metadata": {},
     "output_type": "execute_result"
    }
   ],
   "source": [
    "media = 5\n",
    "expon.cdf(5, scale=5)"
   ]
  },
  {
   "cell_type": "markdown",
   "id": "7e5e2dee",
   "metadata": {},
   "source": [
    "### Qual é a probabilidade de que uma pessoa espere entre 4 e 6 minutos na fila até o atendimento?"
   ]
  },
  {
   "cell_type": "code",
   "execution_count": 22,
   "id": "d9a7c28b",
   "metadata": {},
   "outputs": [
    {
     "data": {
      "text/plain": [
       "0.14813475220501943"
      ]
     },
     "execution_count": 22,
     "metadata": {},
     "output_type": "execute_result"
    }
   ],
   "source": [
    "quatroASeis = expon.sf([4, 6], scale=media)\n",
    "quatroASeis[0] - quatroASeis[1]"
   ]
  },
  {
   "cell_type": "markdown",
   "id": "58119d4f",
   "metadata": {},
   "source": [
    "## Suponha que o tempo de vida de um celular seja modelado pela distribuição exponencial apresentando uma média de 2 anos."
   ]
  },
  {
   "cell_type": "markdown",
   "id": "e1e2e2b5",
   "metadata": {},
   "source": [
    "### Calcule a probabilidade do aparelho durar menos do que o tempo de cobertura da garantia estabelecida pela fábrica que é de 1 ano"
   ]
  },
  {
   "cell_type": "code",
   "execution_count": 23,
   "id": "10d88c2e",
   "metadata": {},
   "outputs": [
    {
     "data": {
      "text/plain": [
       "0.3934693402873666"
      ]
     },
     "execution_count": 23,
     "metadata": {},
     "output_type": "execute_result"
    }
   ],
   "source": [
    "mediaDuracao = 2\n",
    "expon.cdf(1, scale=mediaDuracao)"
   ]
  },
  {
   "cell_type": "markdown",
   "id": "51cc08cd",
   "metadata": {},
   "source": [
    "### Sabendo que a garantia acabou de vencer sem que o aparelho apresentasse problema, calcule a probabilidade do aparelho durar pelo menos mais 1 ano."
   ]
  },
  {
   "cell_type": "code",
   "execution_count": 26,
   "id": "74780aaf",
   "metadata": {},
   "outputs": [
    {
     "data": {
      "text/plain": [
       "0.6065306597126334"
      ]
     },
     "execution_count": 26,
     "metadata": {},
     "output_type": "execute_result"
    }
   ],
   "source": [
    "expon.sf(1, scale=mediaDuracao)"
   ]
  },
  {
   "cell_type": "code",
   "execution_count": null,
   "id": "9bf23a2a",
   "metadata": {},
   "outputs": [],
   "source": []
  }
 ],
 "metadata": {
  "kernelspec": {
   "display_name": "Python 3 (ipykernel)",
   "language": "python",
   "name": "python3"
  },
  "language_info": {
   "codemirror_mode": {
    "name": "ipython",
    "version": 3
   },
   "file_extension": ".py",
   "mimetype": "text/x-python",
   "name": "python",
   "nbconvert_exporter": "python",
   "pygments_lexer": "ipython3",
   "version": "3.11.4"
  }
 },
 "nbformat": 4,
 "nbformat_minor": 5
}

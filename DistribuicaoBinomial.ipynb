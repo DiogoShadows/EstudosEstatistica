{
 "cells": [
  {
   "cell_type": "markdown",
   "metadata": {},
   "source": [
    "# Distribuição Binomial\n",
    "\n",
    "Usando Scipy"
   ]
  },
  {
   "cell_type": "code",
   "execution_count": 2,
   "metadata": {},
   "outputs": [],
   "source": [
    "from scipy.stats import binom"
   ]
  },
  {
   "cell_type": "markdown",
   "metadata": {},
   "source": [
    "## **Uma caixa de ovos com 12 unidades possui a probabilidade de 5% de um dos ovos ser quebrado em 3 situações: enquanto é manuseado, no transporte e nas gôndolas do mercado.**\n",
    "\n",
    "n = 12 -> total de ensaios \n",
    "\n",
    "Eventos: temos duas opções (inteiro ou quebrado).\n",
    "\n",
    "Probabilidades{\n",
    "p: ovo quebrado\n",
    "q: ovo estar inteiro\n",
    "}"
   ]
  },
  {
   "cell_type": "markdown",
   "metadata": {},
   "source": [
    "## Qual a probabilidade de que uma caixa com 12 ovos possua 2 unidades quebradas?"
   ]
  },
  {
   "cell_type": "code",
   "execution_count": 10,
   "metadata": {},
   "outputs": [],
   "source": [
    "valorParaVerificar = 2\n",
    "valorDaAmostra = 12\n",
    "porcentagemDeQuebradosNaAmostra = 0.05"
   ]
  },
  {
   "cell_type": "code",
   "execution_count": 11,
   "metadata": {},
   "outputs": [
    {
     "data": {
      "text/plain": [
       "0.0987915949743324"
      ]
     },
     "execution_count": 11,
     "metadata": {},
     "output_type": "execute_result"
    }
   ],
   "source": [
    "binom.pmf(valorParaVerificar, valorDaAmostra, porcentagemDeQuebradosNaAmostra) "
   ]
  },
  {
   "cell_type": "markdown",
   "metadata": {},
   "source": [
    "## Qual a probabilidade que a mesma caixa possua no máximo 2 unidades quebradas?"
   ]
  },
  {
   "cell_type": "code",
   "execution_count": 12,
   "metadata": {},
   "outputs": [
    {
     "data": {
      "text/plain": [
       "0.9804317380028454"
      ]
     },
     "execution_count": 12,
     "metadata": {},
     "output_type": "execute_result"
    }
   ],
   "source": [
    "binom.cdf(valorParaVerificar, valorDaAmostra, porcentagemDeQuebradosNaAmostra)"
   ]
  },
  {
   "cell_type": "markdown",
   "metadata": {},
   "source": [
    "## Qual a probabilidade que a mesma caixa possua mais de 2 unidades quebradas?"
   ]
  },
  {
   "cell_type": "code",
   "execution_count": 13,
   "metadata": {},
   "outputs": [
    {
     "data": {
      "text/plain": [
       "0.01956826199715453"
      ]
     },
     "execution_count": 13,
     "metadata": {},
     "output_type": "execute_result"
    }
   ],
   "source": [
    "binom.sf(valorParaVerificar, valorDaAmostra, porcentagemDeQuebradosNaAmostra)"
   ]
  },
  {
   "cell_type": "markdown",
   "metadata": {},
   "source": [
    "## (Freund, 2006) A experiência mostra que 30% dos lançamentos de foguete de uma base da NASA foram adiados em virtude do mau tempo. Determine a probabilidade de que, em dez lançamentos de foguete daquela base, de três a cinco sejam adiados em virtude do mau tempo."
   ]
  },
  {
   "cell_type": "code",
   "execution_count": 8,
   "metadata": {},
   "outputs": [
    {
     "data": {
      "text/plain": [
       "0.5698682261999996"
      ]
     },
     "execution_count": 8,
     "metadata": {},
     "output_type": "execute_result"
    }
   ],
   "source": [
    "a = binom.pmf([5, 3, 4], 10, 0.30)\n",
    "a[1] + a[0] + a[2]"
   ]
  },
  {
   "cell_type": "markdown",
   "metadata": {},
   "source": [
    "## (Adaptado de Freund, 2006) Um estudo mostra que em 60% dos casos de divórcio requeridos num certo município, a incompatibilidade é apontada como causa. Encontre a probabilidade de que entre 14 casos de divórcio requeridos naquele município mais de 12 apontem a incompatibilidade como causa."
   ]
  },
  {
   "cell_type": "code",
   "execution_count": 9,
   "metadata": {},
   "outputs": [
    {
     "data": {
      "text/plain": [
       "0.008097630289919996"
      ]
     },
     "execution_count": 9,
     "metadata": {},
     "output_type": "execute_result"
    }
   ],
   "source": [
    "binom.sf(12, 14, 0.60)"
   ]
  },
  {
   "cell_type": "code",
   "execution_count": null,
   "metadata": {},
   "outputs": [],
   "source": []
  }
 ],
 "metadata": {
  "kernelspec": {
   "display_name": "Python 3 (ipykernel)",
   "language": "python",
   "name": "python3"
  },
  "language_info": {
   "codemirror_mode": {
    "name": "ipython",
    "version": 3
   },
   "file_extension": ".py",
   "mimetype": "text/x-python",
   "name": "python",
   "nbconvert_exporter": "python",
   "pygments_lexer": "ipython3",
   "version": "3.10.9"
  }
 },
 "nbformat": 4,
 "nbformat_minor": 2
}

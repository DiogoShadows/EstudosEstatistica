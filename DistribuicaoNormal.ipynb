{
 "cells": [
  {
   "cell_type": "markdown",
   "id": "101685bc",
   "metadata": {},
   "source": [
    "# Distribuição Normal"
   ]
  },
  {
   "cell_type": "code",
   "execution_count": 1,
   "id": "46538477",
   "metadata": {},
   "outputs": [],
   "source": [
    "from scipy.stats import norm"
   ]
  },
  {
   "cell_type": "markdown",
   "id": "adcd18d2",
   "metadata": {},
   "source": [
    "## O porto de South Louisiana, localizado ao longo de 54 milhas do Rio Mississippi, entre Nova Orleans e Baton Rouge, é o maior porto de carga a granel do mundo. A quantidade de toneladas de carga movimentadas por semana é normalmente distribuída com uma média de 4, 5 milhões de toneladas de carga por semana e um desvio padrão de 0,82 milhão de toneladas."
   ]
  },
  {
   "cell_type": "markdown",
   "id": "ef7c660d",
   "metadata": {},
   "source": [
    "### Qual é a probabilidade de o porto manejar menos de 5 milhóes de toneladas de carga por semana?"
   ]
  },
  {
   "cell_type": "code",
   "execution_count": 4,
   "id": "5be1d59c",
   "metadata": {},
   "outputs": [
    {
     "data": {
      "text/plain": [
       "0.7289883061396114"
      ]
     },
     "execution_count": 4,
     "metadata": {},
     "output_type": "execute_result"
    }
   ],
   "source": [
    "norm.cdf(5, 4.5, 0.82)"
   ]
  },
  {
   "cell_type": "markdown",
   "id": "f3c61abb",
   "metadata": {},
   "source": [
    "### Qual é a probabilidade de o porto movimentar 3 ou mais milhões de toneladas de carga por semana?"
   ]
  },
  {
   "cell_type": "code",
   "execution_count": 5,
   "id": "a3a607cb",
   "metadata": {},
   "outputs": [
    {
     "data": {
      "text/plain": [
       "0.9663202869206196"
      ]
     },
     "execution_count": 5,
     "metadata": {},
     "output_type": "execute_result"
    }
   ],
   "source": [
    "norm.sf(3, 4.5, 0.82)"
   ]
  },
  {
   "cell_type": "markdown",
   "id": "20fe3a45",
   "metadata": {},
   "source": [
    "### Qual é a probabilidade de o porto movimentar entre 3 e 4 milhões de toneladas de carga por semana?"
   ]
  },
  {
   "cell_type": "code",
   "execution_count": 13,
   "id": "0ad83a76",
   "metadata": {},
   "outputs": [
    {
     "data": {
      "text/plain": [
       "0.23733198078100812"
      ]
     },
     "execution_count": 13,
     "metadata": {},
     "output_type": "execute_result"
    }
   ],
   "source": [
    "probabilidades = norm.cdf([3, 4], 4.5, 0.82)\n",
    "probabilidades[1] - probabilidades[0]"
   ]
  },
  {
   "cell_type": "markdown",
   "id": "ec877f72",
   "metadata": {},
   "source": [
    "## Os prazos de duração da gravidez têm distribuição normal com média de 268 dias e desvio padrão de 15 dias. Se definirmos como prematura uma criança cujo período de gestação esteja nos 4% inferiores, determine o prazo de gestação que separa as crianças prematuras e não prematuras."
   ]
  },
  {
   "cell_type": "code",
   "execution_count": 15,
   "id": "9dc46a65",
   "metadata": {},
   "outputs": [
    {
     "data": {
      "text/plain": [
       "241.73970893121745"
      ]
     },
     "execution_count": 15,
     "metadata": {},
     "output_type": "execute_result"
    }
   ],
   "source": [
    "norm.ppf(0.04, 268, 15)"
   ]
  },
  {
   "cell_type": "markdown",
   "id": "40e1fb99",
   "metadata": {},
   "source": [
    "## Os QI's têm distribuição normal com média 100 e desvio padrão 15. Definindo como gênio uma pessoa no 1% superior dos valores de QI, determine o valor que separa os gênios das pessoas comuns."
   ]
  },
  {
   "cell_type": "code",
   "execution_count": 18,
   "id": "fc0950c1",
   "metadata": {},
   "outputs": [
    {
     "data": {
      "text/plain": [
       "134.8952181106126"
      ]
     },
     "execution_count": 18,
     "metadata": {},
     "output_type": "execute_result"
    }
   ],
   "source": [
    "norm.isf(0.01, 100, 15)"
   ]
  },
  {
   "cell_type": "markdown",
   "id": "db18e348",
   "metadata": {},
   "source": [
    "## (Stevenson, 2001) A vida  útil de lavadoras de pratos automáticas pode ser modelada pela distribuição normal com uma média de 1,5 ano e com desvio padrão de 0,3 ano. Que percentagem das lavadoras vendidas necessitará de conserto antes de expirar o tempo de garantia de 12 meses? "
   ]
  },
  {
   "cell_type": "code",
   "execution_count": 2,
   "id": "57f3fb9e",
   "metadata": {},
   "outputs": [],
   "source": [
    "media = 1.5\n",
    "desvio = 0.3\n",
    "garantia = 1"
   ]
  },
  {
   "cell_type": "code",
   "execution_count": 4,
   "id": "740cd94f",
   "metadata": {},
   "outputs": [
    {
     "data": {
      "text/plain": [
       "0.0477903522728147"
      ]
     },
     "execution_count": 4,
     "metadata": {},
     "output_type": "execute_result"
    }
   ],
   "source": [
    "norm.cdf(garantia, media, desvio)"
   ]
  },
  {
   "cell_type": "markdown",
   "id": "56721e6e",
   "metadata": {},
   "source": [
    "## A distribuição da altura de 500 estudantes do sexo masculino de uma escola é aproximadamente Normal com média igual a 1,70 metro e desvio padrão igual a 2,5 centímetros. Aproximadamente quantos têm altura superior a 1,65m?"
   ]
  },
  {
   "cell_type": "code",
   "execution_count": 12,
   "id": "cb5d6080",
   "metadata": {},
   "outputs": [
    {
     "data": {
      "text/plain": [
       "488.6249340259105"
      ]
     },
     "execution_count": 12,
     "metadata": {},
     "output_type": "execute_result"
    }
   ],
   "source": [
    "probabilidade = norm.sf(1.65, 1.70, 0.025)\n",
    "500 * probabilidade "
   ]
  },
  {
   "cell_type": "markdown",
   "id": "2335dc2e",
   "metadata": {},
   "source": [
    "## (Magalhães, 2002) Uma clínica de emagrecimento recebe pacientes adultos com peso seguindo uma distribuição normal com média 130 kg e desvio padrão 20 kg. Para efeito de determinar o tratamento mais adequado, os 25% pacientes de menor peso são classificados de “magros”, enquanto dos 25% de maior peso de “obesos”. Determine os valores que delimitam cada uma dessas classificações."
   ]
  },
  {
   "cell_type": "code",
   "execution_count": 10,
   "id": "3b5e498b",
   "metadata": {},
   "outputs": [
    {
     "data": {
      "text/plain": [
       "116.51020499607837"
      ]
     },
     "execution_count": 10,
     "metadata": {},
     "output_type": "execute_result"
    }
   ],
   "source": [
    "norm.ppf(0.25, 130, 20)"
   ]
  },
  {
   "cell_type": "code",
   "execution_count": 11,
   "id": "027d3213",
   "metadata": {},
   "outputs": [
    {
     "data": {
      "text/plain": [
       "143.48979500392164"
      ]
     },
     "execution_count": 11,
     "metadata": {},
     "output_type": "execute_result"
    }
   ],
   "source": [
    "norm.isf(0.25, 130, 20)"
   ]
  },
  {
   "cell_type": "markdown",
   "id": "762f2268",
   "metadata": {},
   "source": [
    "## Uma companhia fabrica motores. As especificações requerem que o comprimento de uma certa haste deste motor esteja entre 7,48 cm e 7,52 cm. Os comprimentos destas hastes, fabricadas por um fornecedor, têm uma distribuição normal com média 7,505 cm e desvio padrão 0,01 cm. Qual a probabilidade de uma haste escolhida ao acaso estar dentro das especificações?"
   ]
  },
  {
   "cell_type": "code",
   "execution_count": 13,
   "id": "71b77b5f",
   "metadata": {},
   "outputs": [
    {
     "data": {
      "text/plain": [
       "0.9269831334053608"
      ]
     },
     "execution_count": 13,
     "metadata": {},
     "output_type": "execute_result"
    }
   ],
   "source": [
    "probabilidades = norm.cdf([7.48, 7.52], 7.505, 0.01)\n",
    "probabilidades[1] - probabilidades[0]"
   ]
  },
  {
   "cell_type": "code",
   "execution_count": null,
   "id": "a72b00b4",
   "metadata": {},
   "outputs": [],
   "source": []
  }
 ],
 "metadata": {
  "kernelspec": {
   "display_name": "Python 3 (ipykernel)",
   "language": "python",
   "name": "python3"
  },
  "language_info": {
   "codemirror_mode": {
    "name": "ipython",
    "version": 3
   },
   "file_extension": ".py",
   "mimetype": "text/x-python",
   "name": "python",
   "nbconvert_exporter": "python",
   "pygments_lexer": "ipython3",
   "version": "3.10.9"
  }
 },
 "nbformat": 4,
 "nbformat_minor": 5
}

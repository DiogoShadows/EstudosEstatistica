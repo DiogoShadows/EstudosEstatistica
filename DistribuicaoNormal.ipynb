{
 "cells": [
  {
   "cell_type": "markdown",
   "id": "101685bc",
   "metadata": {},
   "source": [
    "# Distribuição Normal"
   ]
  },
  {
   "cell_type": "code",
   "execution_count": 1,
   "id": "46538477",
   "metadata": {},
   "outputs": [],
   "source": [
    "from scipy.stats import norm"
   ]
  },
  {
   "cell_type": "markdown",
   "id": "adcd18d2",
   "metadata": {},
   "source": [
    "## O porto de South Louisiana, localizado ao longo de 54 milhas do Rio Mississippi, entre Nova Orleans e Baton Rouge, é o maior porto de carga a granel do mundo. A quantidade de toneladas de carga movimentadas por semana é normalmente distribuída com uma média de 4, 5 milhões de toneladas de carga por semana e um desvio padrão de 0,82 milhão de toneladas."
   ]
  },
  {
   "cell_type": "markdown",
   "id": "ef7c660d",
   "metadata": {},
   "source": [
    "### Qual é a probabilidade de o porto manejar menos de 5 milhóes de toneladas de carga por semana?"
   ]
  },
  {
   "cell_type": "code",
   "execution_count": 4,
   "id": "5be1d59c",
   "metadata": {},
   "outputs": [
    {
     "data": {
      "text/plain": [
       "0.7289883061396114"
      ]
     },
     "execution_count": 4,
     "metadata": {},
     "output_type": "execute_result"
    }
   ],
   "source": [
    "norm.cdf(5, 4.5, 0.82)"
   ]
  },
  {
   "cell_type": "markdown",
   "id": "f3c61abb",
   "metadata": {},
   "source": [
    "### Qual é a probabilidade de o porto movimentar 3 ou mais milhões de toneladas de carga por semana?"
   ]
  },
  {
   "cell_type": "code",
   "execution_count": 5,
   "id": "a3a607cb",
   "metadata": {},
   "outputs": [
    {
     "data": {
      "text/plain": [
       "0.9663202869206196"
      ]
     },
     "execution_count": 5,
     "metadata": {},
     "output_type": "execute_result"
    }
   ],
   "source": [
    "norm.sf(3, 4.5, 0.82)"
   ]
  },
  {
   "cell_type": "markdown",
   "id": "20fe3a45",
   "metadata": {},
   "source": [
    "### Qual é a probabilidade de o porto movimentar entre 3 e 4 milhões de toneladas de carga por semana?"
   ]
  },
  {
   "cell_type": "code",
   "execution_count": 13,
   "id": "0ad83a76",
   "metadata": {},
   "outputs": [
    {
     "data": {
      "text/plain": [
       "0.23733198078100812"
      ]
     },
     "execution_count": 13,
     "metadata": {},
     "output_type": "execute_result"
    }
   ],
   "source": [
    "probabilidades = norm.cdf([3, 4], 4.5, 0.82)\n",
    "probabilidades[1] - probabilidades[0]"
   ]
  },
  {
   "cell_type": "markdown",
   "id": "ec877f72",
   "metadata": {},
   "source": [
    "## Os prazos de duração da gravidez têm distribuição normal com média de 268 dias e desvio padrão de 15 dias. Se definirmos como prematura uma criança cujo período de gestação esteja nos 4% inferiores, determine o prazo de gestação que separa as crianças prematuras e não prematuras."
   ]
  },
  {
   "cell_type": "code",
   "execution_count": 15,
   "id": "9dc46a65",
   "metadata": {},
   "outputs": [
    {
     "data": {
      "text/plain": [
       "241.73970893121745"
      ]
     },
     "execution_count": 15,
     "metadata": {},
     "output_type": "execute_result"
    }
   ],
   "source": [
    "norm.ppf(0.04, 268, 15)"
   ]
  },
  {
   "cell_type": "markdown",
   "id": "40e1fb99",
   "metadata": {},
   "source": [
    "## Os QI's têm distribuição normal com média 100 e desvio padrão 15. Definindo como gênio uma pessoa no 1% superior dos valores de QI, determine o valor que separa os gênios das pessoas comuns."
   ]
  },
  {
   "cell_type": "code",
   "execution_count": 18,
   "id": "fc0950c1",
   "metadata": {},
   "outputs": [
    {
     "data": {
      "text/plain": [
       "134.8952181106126"
      ]
     },
     "execution_count": 18,
     "metadata": {},
     "output_type": "execute_result"
    }
   ],
   "source": [
    "norm.isf(0.01, 100, 15)"
   ]
  },
  {
   "cell_type": "code",
   "execution_count": null,
   "id": "6b7db7a5",
   "metadata": {},
   "outputs": [],
   "source": []
  }
 ],
 "metadata": {
  "kernelspec": {
   "display_name": "Python 3 (ipykernel)",
   "language": "python",
   "name": "python3"
  },
  "language_info": {
   "codemirror_mode": {
    "name": "ipython",
    "version": 3
   },
   "file_extension": ".py",
   "mimetype": "text/x-python",
   "name": "python",
   "nbconvert_exporter": "python",
   "pygments_lexer": "ipython3",
   "version": "3.11.4"
  }
 },
 "nbformat": 4,
 "nbformat_minor": 5
}
